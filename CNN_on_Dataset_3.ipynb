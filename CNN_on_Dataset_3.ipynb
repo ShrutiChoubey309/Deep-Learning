{
  "cells": [
    {
      "cell_type": "markdown",
      "metadata": {
        "id": "ql4uzkFN5Oba"
      },
      "source": [
        "# Face Recognition using CNN"
      ]
    },
    {
      "cell_type": "markdown",
      "metadata": {
        "id": "bDd2sCzt5Obc"
      },
      "source": [
        " # Step1:\n",
        " \n",
        "At the first, you should input the required libraries:"
      ]
    },
    {
      "cell_type": "code",
      "execution_count": null,
      "metadata": {
        "id": "0nf4hUkN5Obd"
      },
      "outputs": [],
      "source": [
        "import keras\n",
        "from keras.models import Sequential\n",
        "from keras.layers import Conv2D, MaxPooling2D, Dense, Flatten, Dropout\n",
        "from tensorflow.keras.optimizers import Adam\n",
        "from keras.callbacks import TensorBoard\n",
        "\n",
        "import numpy as np\n",
        "import pandas as pd\n",
        "import matplotlib.pyplot as plt\n",
        "from sklearn.model_selection import train_test_split\n",
        "\n",
        "from sklearn.metrics import confusion_matrix\n",
        "from sklearn.metrics import classification_report\n",
        "from sklearn.metrics import roc_curve, auc\n",
        "from sklearn.metrics import accuracy_score\n",
        "from keras.utils import np_utils\n",
        "import itertools"
      ]
    },
    {
      "cell_type": "code",
      "source": [
        "from google.colab import drive\n",
        "drive.mount('/content/drive')"
      ],
      "metadata": {
        "colab": {
          "base_uri": "https://localhost:8080/"
        },
        "id": "OmNvCmcl5Txc",
        "outputId": "2610638d-ed5a-485f-a91b-04cc046dbb36"
      },
      "execution_count": null,
      "outputs": [
        {
          "output_type": "stream",
          "name": "stdout",
          "text": [
            "Mounted at /content/drive\n"
          ]
        }
      ]
    },
    {
      "cell_type": "markdown",
      "metadata": {
        "id": "_QH1v6Wy5Obe"
      },
      "source": [
        "# Step2:\n",
        "\n",
        "* Load Dataset :\n",
        "\n",
        "After loading the Dataset you have to normalize every image."
      ]
    },
    {
      "cell_type": "code",
      "execution_count": null,
      "metadata": {
        "colab": {
          "base_uri": "https://localhost:8080/"
        },
        "id": "LbzHLWms5Obf",
        "outputId": "74af9b6a-f93d-4d8b-a240-2562fcf1611b"
      },
      "outputs": [
        {
          "output_type": "stream",
          "name": "stdout",
          "text": [
            "x_train : [[0.1882353  0.19215687 0.1764706  ... 0.18431373 0.18039216 0.18039216]\n",
            " [0.23529412 0.23529412 0.24313726 ... 0.1254902  0.13333334 0.13333334]\n",
            " [0.15294118 0.17254902 0.20784314 ... 0.11372549 0.10196079 0.11372549]\n",
            " ...\n",
            " [0.44705883 0.45882353 0.44705883 ... 0.38431373 0.3764706  0.38431373]\n",
            " [0.4117647  0.4117647  0.41960785 ... 0.21176471 0.18431373 0.16078432]\n",
            " [0.45490196 0.44705883 0.45882353 ... 0.37254903 0.39215687 0.39607844]]\n",
            "Y-train shape: [ 0  0  0  0  0  0  0  0  0  0  0  0  1  1  1  1  1  1  1  1  1  1  1  1\n",
            "  2  2  2  2  2  2  2  2  2  2  2  2  3  3  3  3  3  3  3  3  3  3  3  3\n",
            "  4  4  4  4  4  4  4  4  4  4  4  4  5  5  5  5  5  5  5  5  5  5  5  5\n",
            "  6  6  6  6  6  6  6  6  6  6  6  6  7  7  7  7  7  7  7  7  7  7  7  7\n",
            "  8  8  8  8  8  8  8  8  8  8  8  8  9  9  9  9  9  9  9  9  9  9  9  9\n",
            " 10 10 10 10 10 10 10 10 10 10 10 10 11 11 11 11 11 11 11 11 11 11 11 11\n",
            " 12 12 12 12 12 12 12 12 12 12 12 12 13 13 13 13 13 13 13 13 13 13 13 13\n",
            " 14 14 14 14 14 14 14 14 14 14 14 14 15 15 15 15 15 15 15 15 15 15 15 15\n",
            " 16 16 16 16 16 16 16 16 16 16 16 16 17 17 17 17 17 17 17 17 17 17 17 17\n",
            " 18 18 18 18 18 18 18 18 18 18 18 18 19 19 19 19 19 19 19 19 19 19 19 19]\n",
            "x_test shape: (160, 10304)\n"
          ]
        }
      ],
      "source": [
        "#load dataset\n",
        "data = np.load('/content/drive/MyDrive/dataset/ORL_faces.npz') \n",
        "\n",
        "# load the \"Train Images\"\n",
        "x_train = data['trainX']\n",
        "#normalize every image\n",
        "x_train = np.array(x_train,dtype='float32')/255\n",
        "\n",
        "x_test = data['testX']\n",
        "x_test = np.array(x_test,dtype='float32')/255\n",
        "\n",
        "# load the Label of Images\n",
        "y_train= data['trainY']\n",
        "y_test= data['testY']\n",
        "\n",
        "# show the train and test Data format\n",
        "print('x_train : {}'.format(x_train[:]))\n",
        "print('Y-train shape: {}'.format(y_train))\n",
        "print('x_test shape: {}'.format(x_test.shape))"
      ]
    },
    {
      "cell_type": "markdown",
      "metadata": {
        "id": "OCfC-yPC5Obg"
      },
      "source": [
        "# Step 3\n",
        "\n",
        "Split DataSet : Validation data and Train \n",
        "\n",
        "Validation DataSet: this data set is used to minimize overfitting.If the accuracy over the training data set increases, but the accuracy over then validation data set stays the same or decreases, then you're overfitting your neural network and you should stop training.\n",
        "\n",
        "\n"
      ]
    },
    {
      "cell_type": "code",
      "execution_count": null,
      "metadata": {
        "id": "cyOlYFyZ5Obh"
      },
      "outputs": [],
      "source": [
        "x_train, x_valid, y_train, y_valid= train_test_split(\n",
        "    x_train, y_train, test_size=.05, random_state=1234,)"
      ]
    },
    {
      "cell_type": "markdown",
      "metadata": {
        "id": "UnkABMVv5Obi"
      },
      "source": [
        "# Step 4\n",
        "\n",
        "For using the CNN, we need to change the size of images ( The size of images must be the same)"
      ]
    },
    {
      "cell_type": "code",
      "execution_count": null,
      "metadata": {
        "colab": {
          "base_uri": "https://localhost:8080/"
        },
        "id": "rIhDa0w35Obj",
        "outputId": "691ea5e6-f5e2-46b8-ba7b-df30d63b6cda"
      },
      "outputs": [
        {
          "output_type": "stream",
          "name": "stdout",
          "text": [
            "x_train shape: 228\n",
            "x_test shape: (160,)\n"
          ]
        }
      ],
      "source": [
        "im_rows=112\n",
        "im_cols=92\n",
        "batch_size=512\n",
        "im_shape=(im_rows, im_cols, 1)\n",
        "\n",
        "#change the size of images\n",
        "x_train = x_train.reshape(x_train.shape[0], *im_shape)\n",
        "x_test = x_test.reshape(x_test.shape[0], *im_shape)\n",
        "x_valid = x_valid.reshape(x_valid.shape[0], *im_shape)\n",
        "\n",
        "print('x_train shape: {}'.format(y_train.shape[0]))\n",
        "print('x_test shape: {}'.format(y_test.shape))"
      ]
    },
    {
      "cell_type": "markdown",
      "metadata": {
        "id": "ZID_-pLY5Obk"
      },
      "source": [
        "# Step 5\n",
        "\n",
        "\n",
        "Build CNN model:\n",
        " CNN have 3 main layer: \n",
        " * 1-Convolotional layer \n",
        " * 2- pooling layer  \n",
        " * 3- fully connected layer\n",
        " \n",
        " we could build a new architecture of CNN by changing the number and position of layers.\n",
        " "
      ]
    },
    {
      "cell_type": "code",
      "execution_count": null,
      "metadata": {
        "colab": {
          "base_uri": "https://localhost:8080/"
        },
        "id": "PldfIzzh5Obk",
        "outputId": "c6cfeb8c-a3c8-4de8-c4f0-85165fdf3011"
      },
      "outputs": [
        {
          "output_type": "stream",
          "name": "stderr",
          "text": [
            "/usr/local/lib/python3.7/dist-packages/keras/optimizer_v2/adam.py:105: UserWarning: The `lr` argument is deprecated, use `learning_rate` instead.\n",
            "  super(Adam, self).__init__(name, **kwargs)\n"
          ]
        }
      ],
      "source": [
        "\n",
        "#filters= the depth of output image or kernels\n",
        "\n",
        "cnn_model= Sequential([\n",
        "    Conv2D(filters=36, kernel_size=7, activation='relu', input_shape= im_shape),\n",
        "    MaxPooling2D(pool_size=2),\n",
        "    Conv2D(filters=54, kernel_size=5, activation='relu', input_shape= im_shape),\n",
        "    MaxPooling2D(pool_size=2),\n",
        "    Flatten(),\n",
        "    Dense(2024, activation='relu'),\n",
        "     Dropout(0.5),\n",
        "    Dense(1024, activation='relu'),\n",
        "    Dropout(0.5),\n",
        "    Dense(512, activation='relu'),\n",
        "    Dropout(0.5),\n",
        "    #20 is the number of outputs\n",
        "    Dense(20, activation='softmax')  \n",
        "])\n",
        "\n",
        "cnn_model.compile(\n",
        "    loss='sparse_categorical_crossentropy',#'categorical_crossentropy',\n",
        "    optimizer=Adam(lr=0.0001),\n",
        "    metrics=['accuracy']\n",
        ")"
      ]
    },
    {
      "cell_type": "markdown",
      "metadata": {
        "id": "zIRJjTgY5Obl"
      },
      "source": [
        "Show the model's parameters."
      ]
    },
    {
      "cell_type": "code",
      "execution_count": null,
      "metadata": {
        "id": "RMVfhKqs5Obl",
        "outputId": "de6f000e-ea69-4468-ae59-62dd9f75a099",
        "colab": {
          "base_uri": "https://localhost:8080/"
        }
      },
      "outputs": [
        {
          "output_type": "stream",
          "name": "stdout",
          "text": [
            "Model: \"sequential\"\n",
            "_________________________________________________________________\n",
            " Layer (type)                Output Shape              Param #   \n",
            "=================================================================\n",
            " conv2d (Conv2D)             (None, 106, 86, 36)       1800      \n",
            "                                                                 \n",
            " max_pooling2d (MaxPooling2D  (None, 53, 43, 36)       0         \n",
            " )                                                               \n",
            "                                                                 \n",
            " conv2d_1 (Conv2D)           (None, 49, 39, 54)        48654     \n",
            "                                                                 \n",
            " max_pooling2d_1 (MaxPooling  (None, 24, 19, 54)       0         \n",
            " 2D)                                                             \n",
            "                                                                 \n",
            " flatten (Flatten)           (None, 24624)             0         \n",
            "                                                                 \n",
            " dense (Dense)               (None, 2024)              49841000  \n",
            "                                                                 \n",
            " dropout (Dropout)           (None, 2024)              0         \n",
            "                                                                 \n",
            " dense_1 (Dense)             (None, 1024)              2073600   \n",
            "                                                                 \n",
            " dropout_1 (Dropout)         (None, 1024)              0         \n",
            "                                                                 \n",
            " dense_2 (Dense)             (None, 512)               524800    \n",
            "                                                                 \n",
            " dropout_2 (Dropout)         (None, 512)               0         \n",
            "                                                                 \n",
            " dense_3 (Dense)             (None, 20)                10260     \n",
            "                                                                 \n",
            "=================================================================\n",
            "Total params: 52,500,114\n",
            "Trainable params: 52,500,114\n",
            "Non-trainable params: 0\n",
            "_________________________________________________________________\n"
          ]
        }
      ],
      "source": [
        "cnn_model.summary()"
      ]
    },
    {
      "cell_type": "markdown",
      "metadata": {
        "id": "F0euGSU95Obm"
      },
      "source": [
        "# Step 6\n",
        "\n",
        "Train the Model\n",
        "\n"
      ]
    },
    {
      "cell_type": "code",
      "execution_count": null,
      "metadata": {
        "colab": {
          "base_uri": "https://localhost:8080/"
        },
        "id": "npOcWyvK5Obm",
        "outputId": "0ee0ffab-ca8c-4cf2-e13c-c7f4e673148c"
      },
      "outputs": [
        {
          "output_type": "stream",
          "name": "stdout",
          "text": [
            "Epoch 1/25\n",
            "1/1 - 8s - loss: 3.0271 - accuracy: 0.0570 - val_loss: 3.0155 - val_accuracy: 0.0000e+00 - 8s/epoch - 8s/step\n",
            "Epoch 2/25\n",
            "1/1 - 7s - loss: 3.0087 - accuracy: 0.0395 - val_loss: 3.0109 - val_accuracy: 0.0000e+00 - 7s/epoch - 7s/step\n",
            "Epoch 3/25\n",
            "1/1 - 7s - loss: 2.9951 - accuracy: 0.0395 - val_loss: 3.0036 - val_accuracy: 0.0000e+00 - 7s/epoch - 7s/step\n",
            "Epoch 4/25\n",
            "1/1 - 7s - loss: 3.0070 - accuracy: 0.0439 - val_loss: 3.0000 - val_accuracy: 0.0000e+00 - 7s/epoch - 7s/step\n",
            "Epoch 5/25\n",
            "1/1 - 7s - loss: 2.9940 - accuracy: 0.0702 - val_loss: 2.9946 - val_accuracy: 0.0000e+00 - 7s/epoch - 7s/step\n",
            "Epoch 6/25\n",
            "1/1 - 7s - loss: 3.0107 - accuracy: 0.0789 - val_loss: 2.9893 - val_accuracy: 0.0000e+00 - 7s/epoch - 7s/step\n",
            "Epoch 7/25\n",
            "1/1 - 7s - loss: 2.9472 - accuracy: 0.0833 - val_loss: 2.9886 - val_accuracy: 0.0833 - 7s/epoch - 7s/step\n",
            "Epoch 8/25\n",
            "1/1 - 7s - loss: 2.9775 - accuracy: 0.0833 - val_loss: 2.9881 - val_accuracy: 0.0833 - 7s/epoch - 7s/step\n",
            "Epoch 9/25\n",
            "1/1 - 7s - loss: 2.9529 - accuracy: 0.0877 - val_loss: 2.9878 - val_accuracy: 0.0833 - 7s/epoch - 7s/step\n",
            "Epoch 10/25\n",
            "1/1 - 7s - loss: 2.9431 - accuracy: 0.0921 - val_loss: 2.9892 - val_accuracy: 0.0833 - 7s/epoch - 7s/step\n",
            "Epoch 11/25\n",
            "1/1 - 7s - loss: 2.9393 - accuracy: 0.1053 - val_loss: 2.9901 - val_accuracy: 0.0833 - 7s/epoch - 7s/step\n",
            "Epoch 12/25\n",
            "1/1 - 7s - loss: 2.9305 - accuracy: 0.1360 - val_loss: 2.9877 - val_accuracy: 0.0833 - 7s/epoch - 7s/step\n",
            "Epoch 13/25\n",
            "1/1 - 7s - loss: 2.9414 - accuracy: 0.1053 - val_loss: 2.9867 - val_accuracy: 0.0833 - 7s/epoch - 7s/step\n",
            "Epoch 14/25\n",
            "1/1 - 7s - loss: 2.9342 - accuracy: 0.1096 - val_loss: 2.9868 - val_accuracy: 0.0833 - 7s/epoch - 7s/step\n",
            "Epoch 15/25\n",
            "1/1 - 7s - loss: 2.9375 - accuracy: 0.1316 - val_loss: 2.9848 - val_accuracy: 0.0833 - 7s/epoch - 7s/step\n",
            "Epoch 16/25\n",
            "1/1 - 8s - loss: 2.9234 - accuracy: 0.1184 - val_loss: 2.9824 - val_accuracy: 0.0833 - 8s/epoch - 8s/step\n",
            "Epoch 17/25\n",
            "1/1 - 7s - loss: 2.9078 - accuracy: 0.1272 - val_loss: 2.9776 - val_accuracy: 0.0833 - 7s/epoch - 7s/step\n",
            "Epoch 18/25\n",
            "1/1 - 7s - loss: 2.9226 - accuracy: 0.1360 - val_loss: 2.9703 - val_accuracy: 0.0833 - 7s/epoch - 7s/step\n",
            "Epoch 19/25\n",
            "1/1 - 7s - loss: 2.9060 - accuracy: 0.1360 - val_loss: 2.9612 - val_accuracy: 0.0833 - 7s/epoch - 7s/step\n",
            "Epoch 20/25\n",
            "1/1 - 7s - loss: 2.8937 - accuracy: 0.1491 - val_loss: 2.9523 - val_accuracy: 0.0833 - 7s/epoch - 7s/step\n",
            "Epoch 21/25\n",
            "1/1 - 7s - loss: 2.8927 - accuracy: 0.1886 - val_loss: 2.9422 - val_accuracy: 0.0833 - 7s/epoch - 7s/step\n",
            "Epoch 22/25\n",
            "1/1 - 8s - loss: 2.9048 - accuracy: 0.1009 - val_loss: 2.9315 - val_accuracy: 0.0833 - 8s/epoch - 8s/step\n",
            "Epoch 23/25\n",
            "1/1 - 7s - loss: 2.8762 - accuracy: 0.1447 - val_loss: 2.9200 - val_accuracy: 0.0833 - 7s/epoch - 7s/step\n",
            "Epoch 24/25\n",
            "1/1 - 7s - loss: 2.8566 - accuracy: 0.1930 - val_loss: 2.9064 - val_accuracy: 0.0833 - 7s/epoch - 7s/step\n",
            "Epoch 25/25\n",
            "1/1 - 7s - loss: 2.8260 - accuracy: 0.1886 - val_loss: 2.8916 - val_accuracy: 0.0833 - 7s/epoch - 7s/step\n"
          ]
        }
      ],
      "source": [
        "history=cnn_model.fit(\n",
        "    np.array(x_train), np.array(y_train), batch_size=512,\n",
        "    epochs=25, verbose=2,\n",
        "    validation_data=(np.array(x_valid),np.array(y_valid)),\n",
        ")"
      ]
    },
    {
      "cell_type": "markdown",
      "metadata": {
        "id": "_IcMwliO5Obn"
      },
      "source": [
        "Evaluate the test data\n"
      ]
    },
    {
      "cell_type": "code",
      "execution_count": null,
      "metadata": {
        "colab": {
          "base_uri": "https://localhost:8080/"
        },
        "id": "3DRK7nzs5Obn",
        "outputId": "34c94828-f70b-47dc-f76e-cb1715bbca7c"
      },
      "outputs": [
        {
          "output_type": "stream",
          "name": "stdout",
          "text": [
            "test los 2.8117\n",
            "test acc 0.5375\n"
          ]
        }
      ],
      "source": [
        "score = cnn_model.evaluate( np.array(x_test),  np.array(y_test), verbose=0)\n",
        "\n",
        "print('test los {:.4f}'.format(score[0]))\n",
        "print('test acc {:.4f}'.format(score[1]))"
      ]
    },
    {
      "cell_type": "markdown",
      "metadata": {
        "id": "WDMsSrkB5Obn"
      },
      "source": [
        "# Step 7 \n",
        "\n",
        "Plot the result"
      ]
    },
    {
      "cell_type": "code",
      "execution_count": null,
      "metadata": {
        "colab": {
          "base_uri": "https://localhost:8080/",
          "height": 589
        },
        "id": "7Fr4usFg5Obo",
        "outputId": "874a9544-3ddd-4de9-ee40-90eb49b75f3a"
      },
      "outputs": [
        {
          "output_type": "stream",
          "name": "stdout",
          "text": [
            "dict_keys(['loss', 'accuracy', 'val_loss', 'val_accuracy'])\n"
          ]
        },
        {
          "output_type": "display_data",
          "data": {
            "image/png": "[encoded data removed]",
            "text/plain": [
              "<Figure size 432x288 with 1 Axes>"
            ]
          },
          "metadata": {
            "needs_background": "light"
          }
        },
        {
          "output_type": "display_data",
          "data": {
            "image/png": "[encoded data removed]",
            "text/plain": [
              "<Figure size 432x288 with 1 Axes>"
            ]
          },
          "metadata": {
            "needs_background": "light"
          }
        }
      ],
      "source": [
        "# list all data in history\n",
        "print(history.history.keys())\n",
        "# summarize history for accuracy\n",
        "plt.plot(history.history['accuracy'])\n",
        "plt.plot(history.history['val_accuracy'])\n",
        "plt.title('model accuracy')\n",
        "plt.ylabel('accuracy')\n",
        "plt.xlabel('epoch')\n",
        "plt.legend(['train', 'test'], loc='upper left')\n",
        "plt.show()\n",
        "# summarize history for loss\n",
        "plt.plot(history.history['loss'])\n",
        "plt.plot(history.history['val_loss'])\n",
        "plt.title('model loss')\n",
        "plt.ylabel('loss')\n",
        "plt.xlabel('epoch')\n",
        "plt.legend(['train', 'test'], loc='upper left')\n",
        "plt.show()"
      ]
    },
    {
      "cell_type": "markdown",
      "metadata": {
        "id": "fM5AuT6I5Obo"
      },
      "source": [
        "# step 8\n",
        "\n",
        "Plot Confusion Matrix"
      ]
    },
    {
      "cell_type": "code",
      "execution_count": null,
      "metadata": {
        "colab": {
          "base_uri": "https://localhost:8080/",
          "height": 1000
        },
        "id": "6W6p67kU5Obp",
        "outputId": "c154fa33-a451-4154-dc9e-c8e91f155930"
      },
      "outputs": [
        {
          "output_type": "stream",
          "name": "stdout",
          "text": [
            "accuracy : \n",
            "0.5375\n",
            "Confusion matrix, without normalization\n",
            "[[0 0 0 0 0 0 0 0 0 0 0 0 1 3 0 4 0 0 0 0]\n",
            " [0 0 0 0 0 0 0 0 0 0 0 0 0 1 0 7 0 0 0 0]\n",
            " [0 0 0 0 0 0 0 0 2 0 0 0 3 0 0 0 0 3 0 0]\n",
            " [0 0 0 8 0 0 0 0 0 0 0 0 0 0 0 0 0 0 0 0]\n",
            " [0 0 0 0 0 0 0 0 3 0 0 0 1 1 0 0 0 3 0 0]\n",
            " [0 0 0 0 0 8 0 0 0 0 0 0 0 0 0 0 0 0 0 0]\n",
            " [0 0 0 0 0 0 8 0 0 0 0 0 0 0 0 0 0 0 0 0]\n",
            " [0 0 0 0 0 0 0 0 0 0 1 0 0 0 0 0 0 7 0 0]\n",
            " [0 0 0 0 0 0 0 0 8 0 0 0 0 0 0 0 0 0 0 0]\n",
            " [0 0 0 0 0 0 0 0 0 8 0 0 0 0 0 0 0 0 0 0]\n",
            " [0 0 0 0 0 0 0 0 0 0 8 0 0 0 0 0 0 0 0 0]\n",
            " [0 0 0 0 0 0 0 0 0 0 0 8 0 0 0 0 0 0 0 0]\n",
            " [0 0 0 0 0 0 0 0 0 0 0 0 8 0 0 0 0 0 0 0]\n",
            " [0 0 0 0 0 0 0 0 0 0 0 0 0 8 0 0 0 0 0 0]\n",
            " [0 0 0 0 0 0 1 0 0 0 0 0 0 0 0 3 0 4 0 0]\n",
            " [0 0 0 0 0 0 0 0 0 0 0 0 0 2 0 6 0 0 0 0]\n",
            " [0 0 0 0 0 0 0 0 0 8 0 0 0 0 0 0 0 0 0 0]\n",
            " [0 0 0 0 0 0 0 0 0 0 0 0 0 0 0 0 0 8 0 0]\n",
            " [0 0 0 0 0 0 0 0 0 0 0 0 0 5 0 3 0 0 0 0]\n",
            " [0 0 0 1 0 0 5 0 0 2 0 0 0 0 0 0 0 0 0 0]]\n",
            "Confusion matrix, without normalization\n"
          ]
        },
        {
          "output_type": "display_data",
          "data": {
            "image/png": "[encoded data removed]",
            "text/plain": [
              "<Figure size 432x288 with 2 Axes>"
            ]
          },
          "metadata": {
            "needs_background": "light"
          }
        },
        {
          "output_type": "stream",
          "name": "stdout",
          "text": [
            "Confusion matrix, without normalization\n"
          ]
        },
        {
          "output_type": "display_data",
          "data": {
            "image/png": "[encoded data removed]",
            "text/plain": [
              "<Figure size 432x288 with 2 Axes>"
            ]
          },
          "metadata": {
            "needs_background": "light"
          }
        },
        {
          "output_type": "stream",
          "name": "stdout",
          "text": [
            "Confusion matrix:\n",
            "[[0 0 0 0 0 0 0 0 0 0 0 0 1 3 0 4 0 0 0 0]\n",
            " [0 0 0 0 0 0 0 0 0 0 0 0 0 1 0 7 0 0 0 0]\n",
            " [0 0 0 0 0 0 0 0 2 0 0 0 3 0 0 0 0 3 0 0]\n",
            " [0 0 0 8 0 0 0 0 0 0 0 0 0 0 0 0 0 0 0 0]\n",
            " [0 0 0 0 0 0 0 0 3 0 0 0 1 1 0 0 0 3 0 0]\n",
            " [0 0 0 0 0 8 0 0 0 0 0 0 0 0 0 0 0 0 0 0]\n",
            " [0 0 0 0 0 0 8 0 0 0 0 0 0 0 0 0 0 0 0 0]\n",
            " [0 0 0 0 0 0 0 0 0 0 1 0 0 0 0 0 0 7 0 0]\n",
            " [0 0 0 0 0 0 0 0 8 0 0 0 0 0 0 0 0 0 0 0]\n",
            " [0 0 0 0 0 0 0 0 0 8 0 0 0 0 0 0 0 0 0 0]\n",
            " [0 0 0 0 0 0 0 0 0 0 8 0 0 0 0 0 0 0 0 0]\n",
            " [0 0 0 0 0 0 0 0 0 0 0 8 0 0 0 0 0 0 0 0]\n",
            " [0 0 0 0 0 0 0 0 0 0 0 0 8 0 0 0 0 0 0 0]\n",
            " [0 0 0 0 0 0 0 0 0 0 0 0 0 8 0 0 0 0 0 0]\n",
            " [0 0 0 0 0 0 1 0 0 0 0 0 0 0 0 3 0 4 0 0]\n",
            " [0 0 0 0 0 0 0 0 0 0 0 0 0 2 0 6 0 0 0 0]\n",
            " [0 0 0 0 0 0 0 0 0 8 0 0 0 0 0 0 0 0 0 0]\n",
            " [0 0 0 0 0 0 0 0 0 0 0 0 0 0 0 0 0 8 0 0]\n",
            " [0 0 0 0 0 0 0 0 0 0 0 0 0 5 0 3 0 0 0 0]\n",
            " [0 0 0 1 0 0 5 0 0 2 0 0 0 0 0 0 0 0 0 0]]\n",
            "              precision    recall  f1-score   support\n",
            "\n",
            "           0       0.00      0.00      0.00         8\n",
            "           1       0.00      0.00      0.00         8\n",
            "           2       0.00      0.00      0.00         8\n",
            "           3       0.89      1.00      0.94         8\n",
            "           4       0.00      0.00      0.00         8\n",
            "           5       1.00      1.00      1.00         8\n",
            "           6       0.57      1.00      0.73         8\n",
            "           7       0.00      0.00      0.00         8\n",
            "           8       0.62      1.00      0.76         8\n",
            "           9       0.44      1.00      0.62         8\n",
            "          10       0.89      1.00      0.94         8\n",
            "          11       1.00      1.00      1.00         8\n",
            "          12       0.62      1.00      0.76         8\n",
            "          13       0.40      1.00      0.57         8\n",
            "          14       0.00      0.00      0.00         8\n",
            "          15       0.26      0.75      0.39         8\n",
            "          16       0.00      0.00      0.00         8\n",
            "          17       0.32      1.00      0.48         8\n",
            "          18       0.00      0.00      0.00         8\n",
            "          19       0.00      0.00      0.00         8\n",
            "\n",
            "    accuracy                           0.54       160\n",
            "   macro avg       0.35      0.54      0.41       160\n",
            "weighted avg       0.35      0.54      0.41       160\n",
            "\n"
          ]
        },
        {
          "output_type": "stream",
          "name": "stderr",
          "text": [
            "/usr/local/lib/python3.7/dist-packages/sklearn/metrics/_classification.py:1318: UndefinedMetricWarning: Precision and F-score are ill-defined and being set to 0.0 in labels with no predicted samples. Use `zero_division` parameter to control this behavior.\n",
            "  _warn_prf(average, modifier, msg_start, len(result))\n",
            "/usr/local/lib/python3.7/dist-packages/sklearn/metrics/_classification.py:1318: UndefinedMetricWarning: Precision and F-score are ill-defined and being set to 0.0 in labels with no predicted samples. Use `zero_division` parameter to control this behavior.\n",
            "  _warn_prf(average, modifier, msg_start, len(result))\n",
            "/usr/local/lib/python3.7/dist-packages/sklearn/metrics/_classification.py:1318: UndefinedMetricWarning: Precision and F-score are ill-defined and being set to 0.0 in labels with no predicted samples. Use `zero_division` parameter to control this behavior.\n",
            "  _warn_prf(average, modifier, msg_start, len(result))\n"
          ]
        }
      ],
      "source": [
        "predicted =np.array( cnn_model.predict(x_test))\n",
        "#print(predicted)\n",
        "#print(y_test)\n",
        "predict_x=cnn_model.predict(x_test) \n",
        "ynew=np.argmax(predict_x,axis=1)\n",
        "\n",
        "\n",
        "\n",
        "Acc=accuracy_score(y_test, ynew)\n",
        "print(\"accuracy : \")\n",
        "print(Acc)\n",
        "#/tn, fp, fn, tp = confusion_matrix(np.array(y_test), ynew).ravel()\n",
        "cnf_matrix=confusion_matrix(np.array(y_test), ynew)\n",
        "\n",
        "y_test1 = np_utils.to_categorical(y_test, 20)\n",
        "\n",
        "\n",
        "\n",
        "def plot_confusion_matrix(cm, classes,\n",
        "                          normalize=False,\n",
        "                          title='Confusion matrix',\n",
        "                          cmap=plt.cm.Reds):\n",
        "    \"\"\"\n",
        "    This function prints and plots the confusion matrix.\n",
        "    Normalization can be applied by setting `normalize=True`.\n",
        "    \"\"\"\n",
        "    if normalize:\n",
        "        cm = cm.astype('float') / cm.sum(axis=1)[:, np.newaxis]\n",
        "        #print(\"Normalized confusion matrix\")\n",
        "    else:\n",
        "        print('Confusion matrix, without normalization')\n",
        "\n",
        "    #print(cm)\n",
        "    plt.imshow(cm, interpolation='nearest', cmap=cmap)\n",
        "    plt.title(title)\n",
        "    plt.colorbar()\n",
        "    tick_marks = np.arange(len(classes))\n",
        "    plt.xticks(tick_marks, classes, rotation=45)\n",
        "    plt.yticks(tick_marks, classes)\n",
        "\n",
        "    fmt = '.2f' if normalize else 'd'\n",
        "    thresh = cm.max() / 2.\n",
        "    for i, j in itertools.product(range(cm.shape[0]), range(cm.shape[1])):\n",
        "        plt.text(j, i, format(cm[i, j], fmt),\n",
        "                 horizontalalignment=\"center\",\n",
        "                 color=\"white\" if cm[i, j] > thresh else \"black\")\n",
        "\n",
        "    plt.tight_layout()\n",
        "    plt.ylabel('True label')\n",
        "    plt.xlabel('Predicted label')\n",
        "    plt.show()\n",
        "\n",
        "\n",
        "print('Confusion matrix, without normalization')\n",
        "print(cnf_matrix)\n",
        "\n",
        "plt.figure()\n",
        "plot_confusion_matrix(cnf_matrix[1:10,1:10], classes=[0,1,2,3,4,5,6,7,8,9],\n",
        "                      title='Confusion matrix, without normalization')\n",
        "\n",
        "plt.figure()\n",
        "plot_confusion_matrix(cnf_matrix[11:20,11:20], classes=[10,11,12,13,14,15,16,17,18,19],\n",
        "                      title='Confusion matrix, without normalization')\n",
        "\n",
        "print(\"Confusion matrix:\\n%s\" % confusion_matrix(np.array(y_test), ynew))\n",
        "print(classification_report(np.array(y_test), ynew))"
      ]
    }
  ],
  "metadata": {
    "kernelspec": {
      "display_name": "Python 3",
      "language": "python",
      "name": "python3"
    },
    "language_info": {
      "codemirror_mode": {
        "name": "ipython",
        "version": 3
      },
      "file_extension": ".py",
      "mimetype": "text/x-python",
      "name": "python",
      "nbconvert_exporter": "python",
      "pygments_lexer": "ipython3",
      "version": "3.6.5"
    },
    "colab": {
      "provenance": []
    }
  },
  "nbformat": 4,
  "nbformat_minor": 0
}